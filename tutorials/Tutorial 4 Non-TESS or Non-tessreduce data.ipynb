{
 "cells": [
  {
   "cell_type": "markdown",
   "id": "6e72b44a",
   "metadata": {},
   "source": [
    "<h1> TUTORIAL FOUR: </h1>\n",
    "<h1> NON TESSREDUCE DATA </h1>\n",
    "<h3> Author: Lindsey Gordon. Last Update: 11-27-22 </h3>\n",
    "        \n",
    "Load in data from another source (aka, how to spoof some input values)"
   ]
  },
  {
   "cell_type": "code",
   "execution_count": null,
   "id": "765a552d",
   "metadata": {},
   "outputs": [],
   "source": [
    "import numpy as np\n",
    "from etsfit import etsMAIN\n",
    "import etsfit.utils.utilities as ut\n",
    "import pandas as pd\n",
    "from astropy.time import Time"
   ]
  }
 ],
 "metadata": {
  "kernelspec": {
   "display_name": "Python 3 (ipykernel)",
   "language": "python",
   "name": "python3"
  },
  "language_info": {
   "codemirror_mode": {
    "name": "ipython",
    "version": 3
   },
   "file_extension": ".py",
   "mimetype": "text/x-python",
   "name": "python",
   "nbconvert_exporter": "python",
   "pygments_lexer": "ipython3",
   "version": "3.9.12"
  }
 },
 "nbformat": 4,
 "nbformat_minor": 5
}
