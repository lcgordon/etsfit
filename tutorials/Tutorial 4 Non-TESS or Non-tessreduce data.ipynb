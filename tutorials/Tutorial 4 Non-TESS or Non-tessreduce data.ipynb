{
 "cells": [
  {
   "cell_type": "markdown",
   "id": "6e72b44a",
   "metadata": {},
   "source": [
    "<h1> TUTORIAL FOUR: </h1>\n",
    "<h1> NON TESSREDUCE DATA </h1>\n",
    "<h3> Author: Lindsey Gordon. Last Update: 11-27-22 </h3>\n",
    "        \n",
    "Load in data from another source (aka, how to spoof some input values)\n",
    "\n",
    "This example uses data from TESS extracted via the **lygos** pipeline, which isn't published so we couldn't use it for the paper. Because it's TESS data, we do have sector, camera, and ccd data for this. If you don't have that, you should just use 0's -> I do this below to show how it should be formatted (yes, it uses strings, because usually you're ripping that info from a filename)"
   ]
  },
  {
   "cell_type": "code",
   "execution_count": 2,
   "id": "765a552d",
   "metadata": {},
   "outputs": [],
   "source": [
    "import numpy as np\n",
    "from etsfit import etsMAIN\n",
    "import etsfit.utils.utilities as ut\n",
    "import pandas as pd\n",
    "from astropy.time import Time"
   ]
  },
  {
   "cell_type": "code",
   "execution_count": 12,
   "id": "1fac1692",
   "metadata": {},
   "outputs": [],
   "source": [
    "lygos_file = \"./tutorial_data/rflxtarg_SN2018hzh_0431_30mn_n005_d4.0_of11.csv\"\n",
    "lygos_data = pd.read_csv(lygos_file)\n",
    "\n",
    "time = np.asarray(lygos_data[\"# time [BJD]\"])\n",
    "flux = np.asarray(lygos_data[\" relative flux\"])\n",
    "error = np.asarray(lygos_data[\" relative flux error\"])\n",
    "targetlabel = \"2018hzh\"\n",
    "sector = \"00\"\n",
    "camera = \"0\"\n",
    "ccd = \"0\"\n",
    "\n",
    "\n",
    "TNSFile = \"./tutorial_data/hzhtld_TNS.csv\"\n",
    "folder = \"./tutorial_data/\"\n",
    "\n",
    "discoverytime = ut.get_disctime(TNSFile, targetlabel)"
   ]
  },
  {
   "cell_type": "code",
   "execution_count": 15,
   "id": "1f188852",
   "metadata": {},
   "outputs": [
    {
     "name": "stdout",
     "output_type": "stream",
     "text": [
      "saving into folder:  ./tutorial_data/2018hzh0000/lygos-single-power/\n",
      " *** \n",
      " *** \n",
      " *** \n",
      " ***\n",
      "Beginning MCMC run\n",
      "Starting burnin chain\n"
     ]
    },
    {
     "name": "stderr",
     "output_type": "stream",
     "text": [
      "100%|████████████████████████████████████| 10000/10000 [01:16<00:00, 130.26it/s]\n",
      " 16%|█████▊                               | 4700/30000 [00:41<03:41, 114.02it/s]"
     ]
    },
    {
     "name": "stdout",
     "output_type": "stream",
     "text": [
      "Converged, ending chain\n"
     ]
    },
    {
     "name": "stderr",
     "output_type": "stream",
     "text": [
      "\n"
     ]
    },
    {
     "name": "stdout",
     "output_type": "stream",
     "text": [
      "32900 samples post second run\n",
      "$t_0$ 13.131163068948997 -0.06427432786198928 0.059811216112500176\n",
      "A 0.09862538343267047 -0.0022890263662649624 0.002261775035380359\n",
      "$\\beta$ 0.5350006840415895 -0.00886799544807082 0.009141248559542126\n",
      "b -0.1304890379309446 -0.0007018956994781778 0.0006935412264686691\n",
      "log prob: [2693.51703334]\n",
      "BAYESIAN INF CRIT:  [5414.48509834]\n"
     ]
    },
    {
     "data": {
      "text/plain": [
       "(array([[13.13116307,  0.09862538,  0.53500068, -0.13048904]]),\n",
       " array([[0.05981122, 0.00226178, 0.00914125, 0.00069354]]),\n",
       " array([[0.06427433, 0.00228903, 0.008868  , 0.0007019 ]]),\n",
       " 5414.48509833604)"
      ]
     },
     "execution_count": 15,
     "metadata": {},
     "output_type": "execute_result"
    }
   ],
   "source": [
    "ets = etsMAIN(folder, TNSFile)\n",
    "ets.load_single_lc(time, flux, error, discoverytime, \n",
    "                   targetlabel, sector, camera, ccd)\n",
    "filterMade = ets.window_rms_filt(plot=False)\n",
    "ets.pre_run_clean(1, cutIndices=filterMade, \n",
    "                    binning = False, fraction = None)\n",
    "ets.run_MCMC(n1=10000, n2=30000, filesavetag=\"-lygos-single-power\")"
   ]
  },
  {
   "cell_type": "code",
   "execution_count": null,
   "id": "9f1f6080",
   "metadata": {},
   "outputs": [],
   "source": []
  }
 ],
 "metadata": {
  "kernelspec": {
   "display_name": "Python 3 (ipykernel)",
   "language": "python",
   "name": "python3"
  },
  "language_info": {
   "codemirror_mode": {
    "name": "ipython",
    "version": 3
   },
   "file_extension": ".py",
   "mimetype": "text/x-python",
   "name": "python",
   "nbconvert_exporter": "python",
   "pygments_lexer": "ipython3",
   "version": "3.9.12"
  }
 },
 "nbformat": 4,
 "nbformat_minor": 5
}
