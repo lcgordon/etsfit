{
 "cells": [
  {
   "cell_type": "markdown",
   "id": "b839770f",
   "metadata": {},
   "source": [
    "# Section 4.2.2 in Gordon et al 2023. \n",
    "# Last updated: 4/13/23 "
   ]
  },
  {
   "cell_type": "code",
   "execution_count": null,
   "id": "3bc94352",
   "metadata": {},
   "outputs": [],
   "source": [
    "from astroquery.mast import Observations\n",
    "import numpy as np\n",
    "import matplotlib.pyplot as plt\n",
    "import os "
   ]
  },
  {
   "cell_type": "markdown",
   "id": "426e06d0",
   "metadata": {},
   "source": [
    "# Obviously because we pulled the real TESS data by manual inspection, this code won't give you totally the same results, but it is the method we used. "
   ]
  },
  {
   "cell_type": "code",
   "execution_count": null,
   "id": "8fd205f7",
   "metadata": {},
   "outputs": [],
   "source": [
    "#TESS observation download: \n",
    "obs_table = Observations.query_criteria(obs_collection=\"TESS\", \n",
    "                                       sequence_number=14, dataproduct_type='timeseries')\n",
    "random_indexes = np.random.randint(0, len(obs_table), 100)\n",
    "print(random_indexes)\n",
    "\n",
    "from astropy.io import fits\n",
    "# download random\n",
    "for i in range(100):\n",
    "    data_products = Observations.get_product_list(obs_table[i])\n",
    "    Observations.download_products(data_products, description=\"Light curves\")\n",
    "  \n",
    "download_dir = \"/Users/lindseygordon/etsfit_local/reliability_testing/mastDownload/\" #change to your dir.\n",
    "\n",
    "# open and plot them all\n",
    "for root, dirs, files in os.walk(download_dir):\n",
    "    for name in files:\n",
    "        fname = root + \"/\" + name\n",
    "        data = fits.open(fname, memmap=False)\n",
    "        t = data[1].data['TIME']\n",
    "        flux = data[1].data['PDCSAP_FLUX']\n",
    "        err = data[1].data['PDCSAP_FLUX_ERR']\n",
    "        id_ = data[0].header[\"Object\"]\n",
    "        \n",
    "        fig, ax = plt.subplots(1, figsize=(8,3))\n",
    "        plt.errorbar(t, flux, err)\n",
    "        plt.title(id_)\n",
    "        print(id_)\n",
    "        plt.show()\n",
    "        plt.close()\n",
    "        data.close()     "
   ]
  },
  {
   "cell_type": "code",
   "execution_count": null,
   "id": "9ef76b25",
   "metadata": {},
   "outputs": [],
   "source": [
    "interesting = [\"TIC 122064388\", \"TIC 99937762\", \"TIC 88003319\", \"TIC 233856183\", \"TIC 284362766\",\n",
    "              \"TIC 198187563\", \"TIC 115650797\", \"TIC 99956360\", \"TIC 26543048\", \"TIC 302518015\", \"TIC 286631521\"]\n",
    "flat = ['TIC 158491422', \"TIC 288185404\", \"TIC 154107231\", \"TIC 137607001\", \"TIC 406998744\",\n",
    "       \"TIC 235930678\", \"TIC 230073587\", \"TIC 313304366\", \"TIC 372758380\", \"TIC 233283569\"]"
   ]
  },
  {
   "cell_type": "code",
   "execution_count": null,
   "id": "6cc6ee64",
   "metadata": {},
   "outputs": [],
   "source": [
    "fig, axs = plt.subplots(10, 2, figsize=(10, 20))\n",
    "\n",
    "lists_ = [flat, interesting]\n",
    "for j in range(2):\n",
    "    use = lists_[j]\n",
    "    for i in range(10):\n",
    "        axy = axs[i][j]\n",
    "        for root, dirs, files in os.walk(download_dir):\n",
    "            for name in files:\n",
    "                fname = root + \"/\" + name\n",
    "                if use[i] in fname:\n",
    "                    #print(fname)\n",
    "                    data = fits.open(fname, memmap=False)\n",
    "                    t = data[1].data['TIME']\n",
    "                    flux = data[1].data['PDCSAP_FLUX']\n",
    "                    err = data[1].data['PDCSAP_FLUX_ERR']\n",
    "                    id_ = data[0].header[\"Object\"]\n",
    "\n",
    "                    axy.errorbar(t, flux, err, mfc='black', mec='black', ms=1, fmt=\".\", ecolor='black')\n",
    "                    axy.set_title(id_)\n",
    "\n",
    "                    data.close()\n",
    "                    \n",
    "#This is figure YYY in the paper.                   \n",
    "plt.suptitle(\"Injected Light Curves\")\n",
    "plt.tight_layout()\n",
    "plt.savefig(\"injected_data.png\")"
   ]
  },
  {
   "cell_type": "code",
   "execution_count": null,
   "id": "d1808165",
   "metadata": {},
   "outputs": [],
   "source": [
    "# make csv files of chosen 20 \n",
    "import pandas as pd\n",
    "save_dir = \"./chosen_data/\"\n",
    "for j in range(2):\n",
    "    use = lists_[j]\n",
    "    for i in range(10):\n",
    "        axy = axs[i][j]\n",
    "        for root, dirs, files in os.walk(download_dir):\n",
    "            for name in files:\n",
    "                fname = root + \"/\" + name\n",
    "                if use[i] in fname:\n",
    "                    #print(fname)\n",
    "                    data = fits.open(fname, memmap=False)\n",
    "                    t = data[1].data['TIME']\n",
    "                    flux = data[1].data['PDCSAP_FLUX']\n",
    "                    err = data[1].data['PDCSAP_FLUX_ERR']\n",
    "                    id_ = data[0].header[\"TICID\"]\n",
    "                    \n",
    "                    di = {'time': t, 'flux':flux, 'error':err}\n",
    "                    df = pd.DataFrame(di)\n",
    "                    df.to_csv(f\"{save_dir}data_{id_}.csv\")\n",
    "                    data.close()"
   ]
  },
  {
   "cell_type": "markdown",
   "id": "3d8f5f50",
   "metadata": {},
   "source": [
    "# Now run reliability testing: "
   ]
  },
  {
   "cell_type": "code",
   "execution_count": null,
   "id": "7601c445",
   "metadata": {},
   "outputs": [],
   "source": [
    "import etsfit.utils.reliability_injection as rel\n",
    "data_folder = \"/Users/lindseygordon/etsfit_local/reliability_testing/chosen_data/\"\n",
    "save_dir = \"/Users/lindseygordon/etsfit_local/reliability_testing/output/\"\n",
    "n_injections = 10 # how many fake signals\n",
    "n_tess = 20 # how many tess lightcurves\n",
    "\n",
    "# init\n",
    "ri = rel.reliability_injection(save_dir, n_injections, n_tess, rise=1, fraction=0.6)\n",
    "\n",
    "# real tess data: \n",
    "ri.real_data_load(data_folder)\n",
    "ri.plot_all_real()\n",
    "\n",
    "# fake signals:\n",
    "ri.gen_params()\n",
    "ri.gen_signals()\n",
    "\n",
    "# signal injection\n",
    "ri.gen_injections()\n",
    "ri.plot_all_injections()\n",
    "\n",
    "# signal fitting: \n",
    "ri.fit_fakes(start=0, n1=5_000, n2=50_000)\n",
    "\n",
    "# run summary stats: \n",
    "ri.retrieve_params()\n",
    "ri.s_stats()\n",
    "ri.chi_sq()"
   ]
  }
 ],
 "metadata": {
  "kernelspec": {
   "display_name": "Python 3 (ipykernel)",
   "language": "python",
   "name": "python3"
  },
  "language_info": {
   "codemirror_mode": {
    "name": "ipython",
    "version": 3
   },
   "file_extension": ".py",
   "mimetype": "text/x-python",
   "name": "python",
   "nbconvert_exporter": "python",
   "pygments_lexer": "ipython3",
   "version": "3.9.12"
  }
 },
 "nbformat": 4,
 "nbformat_minor": 5
}
