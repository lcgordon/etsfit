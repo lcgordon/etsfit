{
 "cells": [
  {
   "cell_type": "markdown",
   "id": "aacd7dbb",
   "metadata": {},
   "source": [
    "# Gordon et al. 2023 Section 4.2.1\n",
    "# Updated 4/13/23"
   ]
  },
  {
   "cell_type": "code",
   "execution_count": 1,
   "id": "150f0353",
   "metadata": {},
   "outputs": [],
   "source": [
    "import numpy as np\n",
    "import matplotlib.pyplot as plt\n",
    "import os "
   ]
  },
  {
   "cell_type": "markdown",
   "id": "af0e02d0",
   "metadata": {},
   "source": [
    "# Choosing which SN to use as backgrounds from the big list required a lot of manual inspection - here's the base code for that one one of the ones we did use. \n",
    "\n",
    "(You will need to update my savedir things)\n",
    "\n",
    "The function will give an approximate value for the mean magnitude prior to the orbit gap - this is a good way to quickly guesstimate whether or not the target will work as a background producer. "
   ]
  },
  {
   "cell_type": "code",
   "execution_count": null,
   "id": "ce72e648",
   "metadata": {},
   "outputs": [],
   "source": [
    "import tessreduce as tr\n",
    "def mag_plot_download(i, df, cdir = \"/Users/lindseygordon/.lightkurve-cache/tesscut/\",\n",
    "                     data_dir = \"/Users/lindseygordon/etsfit_local/tessreduce_lc/\"):\n",
    "    \"\"\" \n",
    "    Retrieve the magnitude data for the ith SN in the given dataframe. \n",
    "    i = index \n",
    "    df = pandas dataframe of all SN to lookup from. \n",
    "    \"\"\"\n",
    "    sec = int(df[\"Sector\"].iloc[i]) #sector to look in\n",
    "    print(df['Name'].iloc[i][3:]) #name of target being looked up \n",
    "    targ = df['Name'].iloc[i][3:]\n",
    "    \n",
    "    try: # vizier...likes to timeout. \n",
    "        obs = tr.sn_lookup(targ) #look it up\n",
    "        lookup = obs[np.where(np.asarray(obs)[:,2] == sec)[0][0]] #obs in correct sector\n",
    "        tess = tr.tessreduce(obs_list=lookup,plot=False,reduce=True) #get tessredue data\n",
    "    except ValueError:   \n",
    "        print(\"value error - something is wrong with vizier or no target in pixels\")\n",
    "    except IndexError:\n",
    "        print(\"index error - tesscut thinks it wasn't observed\")\n",
    "    except ConnectionResetError:\n",
    "        print(\"vizier problems\")\n",
    "    except TimeoutError:\n",
    "        print(\"2 vizier 2 problems\")\n",
    "    except ConnectionError:\n",
    "        print(\"vizier problems: tokyo drift\")\n",
    "    \n",
    "    #holder = \"\"\n",
    "    for root, dirs, files in os.walk(cdir):\n",
    "        for name in files:\n",
    "            holder = root + \"/\" + name\n",
    "            print(holder)\n",
    "            try:\n",
    "                filenamepieces = name.split(\"-\")\n",
    "                sector = str( filenamepieces[1][3:])\n",
    "                camera = str( filenamepieces[2])\n",
    "                ccd = str(filenamepieces[3][0])\n",
    "                os.remove(holder)\n",
    "                break\n",
    "            except IndexError:\n",
    "                print(\"eek\")\n",
    "                os.remove(holder)\n",
    "                continue\n",
    "    \n",
    "    targlabel = targ + sector + camera + ccd \n",
    "    newfolder = data_dir + targlabel + \"/\"\n",
    "    if not os.path.exists(newfolder):\n",
    "        os.mkdir(newfolder)\n",
    "        filesave = newfolder + targlabel + \"-tessreduce.csv\"\n",
    "        tess.save_lc(filesave) #save flux\n",
    "        tess.to_flux()\n",
    "        filesave = newfolder + targlabel + \"-tessreduce-fluxconverted.csv\"\n",
    "        tess.save_lc(filesave)\n",
    "\n",
    "    #make subfolder to save into \n",
    "    targlabel = targ + sector + camera + ccd \n",
    "    l_mag = tess.to_mag() #get magnitudes\n",
    "    time = l_mag[0] \n",
    "    mag = l_mag[1]\n",
    "    m = int(len(time)/2 ) - 40 # this is a good way to roughly estimate the pre-orbit gap position\n",
    "    \n",
    "    fig, ax = plt.subplots(1,1, figsize=(8,3))\n",
    "    from astropy.time import Time\n",
    "    time = Time(time, format='mjd').jd\n",
    "    ddate = Time(df[\"Discovery Date (UT)\"].iloc[i]).jd\n",
    "    #print(ddate)\n",
    "    \n",
    "    ax.scatter(time, mag)\n",
    "    ax.invert_yaxis()\n",
    "    ax.axvline(ddate, color='green')\n",
    "    ax.axvline(time[m], color='red')\n",
    "    ax.set_title(targlabel)\n",
    "    \n",
    "    print(targlabel, \"Mean Mag:\", np.ma.masked_invalid(mag[0:m]).mean()) #approx pre-orbit gap mean\n",
    "    return tess, ddate"
   ]
  },
  {
   "cell_type": "code",
   "execution_count": null,
   "id": "b62e4b00",
   "metadata": {},
   "outputs": [],
   "source": [
    "TNS_file = \"/Users/lindseygordon/etsfit_local/august2022crossmatch/all-tesscut-matches.csv\"\n",
    "df = pd.read_csv(TNS_file)\n",
    "data_dir = \"/Users/lindseygordon/etsfit_local/tessreduce_lc/\"\n",
    "\n",
    "candidate_backgrounds = [\"2018fhw\"]\n",
    "ind = 0\n",
    "df2 = df[df[\"Name\"].str.contains(candidate_backgrounds[ind])]\n",
    "print(df2)\n",
    "tess_, dd_ = mag_plot_download(ind, df2)"
   ]
  },
  {
   "cell_type": "markdown",
   "id": "39f64116",
   "metadata": {},
   "source": [
    "Once SN to use are chosen, download tessreduce flux data - helper fxns in the utilities file. "
   ]
  },
  {
   "cell_type": "code",
   "execution_count": null,
   "id": "ea588f59",
   "metadata": {},
   "outputs": [],
   "source": [
    "import etsfit.utils.utilities as ut\n",
    "cdir = \"/Users/lindseygordon/.lightkurve-cache/tesscut/\"\n",
    "\n",
    "#just get the TNS sublist of backgrounds\n",
    "ut.get_sublist(TNS_file, candidate_backgrounds, TNS_limited)\n",
    "TNS_limited = \"/Users/lindseygordon/etsfit_local/completeness-injections/tns_limited.csv\"\n",
    "\n",
    "#download them \n",
    "ut.tr_downloader(TNS_limited, data_dir, cdir)"
   ]
  },
  {
   "cell_type": "markdown",
   "id": "5cfbc113",
   "metadata": {},
   "source": [
    "# now run the completeness testing code - as of 4/13 the paths are hardcoded in the completness-injection.py file to be my local paths. Either go edit that file or start a github issue and I can make them parameters"
   ]
  },
  {
   "cell_type": "code",
   "execution_count": null,
   "id": "3b6eb07d",
   "metadata": {},
   "outputs": [],
   "source": [
    "save_dir = \"/Users/lindseygordon/etsfit_local/fake_data/\"\n",
    "\n",
    "import etsfit.utils.completeness_injection as CIJ\n",
    "\n",
    "\n",
    "#init it\n",
    "n_fakes = 50\n",
    "ci = CIJ.artificial_lc(save_dir, n_fakes, rise_=1)\n",
    "\n",
    "#make params:\n",
    "ci.gen_params()\n",
    "ci.plot_true_param_distros(bins=20)\n",
    "\n",
    "#make backgrounds: \n",
    "bg = 2\n",
    "ci.gen_lc(bg=bg)\n",
    "ci.fit_fakes(start=0, n1=5000, n2=50_000)\n",
    "\n",
    "#plots and summary statistics\n",
    "ci.retrieve_params(bg=bg)\n",
    "ci.megaplot() \n",
    "ci.s_stats()\n",
    "ci.plot_s_separate()\n",
    "ci.chi_sq()"
   ]
  }
 ],
 "metadata": {
  "kernelspec": {
   "display_name": "Python 3 (ipykernel)",
   "language": "python",
   "name": "python3"
  },
  "language_info": {
   "codemirror_mode": {
    "name": "ipython",
    "version": 3
   },
   "file_extension": ".py",
   "mimetype": "text/x-python",
   "name": "python",
   "nbconvert_exporter": "python",
   "pygments_lexer": "ipython3",
   "version": "3.9.12"
  }
 },
 "nbformat": 4,
 "nbformat_minor": 5
}
