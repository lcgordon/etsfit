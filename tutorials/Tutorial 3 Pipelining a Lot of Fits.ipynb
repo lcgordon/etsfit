{
 "cells": [
  {
   "cell_type": "markdown",
   "id": "c1df6aee",
   "metadata": {},
   "source": [
    "<h1> TUTORIAL THREE: </h1>\n",
    "<h1> PIPELINE YOUR FITTING </h1>\n",
    "<h3> Author: Lindsey Gordon. Last Update: 11-27-22 </h3>\n",
    "        \n",
    "Fit to all the SN datasets in the same folder (for the example's sake there's only two datasets in there, but you'll get the idea)"
   ]
  },
  {
   "cell_type": "code",
   "execution_count": 1,
   "id": "7a68a25e",
   "metadata": {},
   "outputs": [],
   "source": [
    "import numpy as np\n",
    "from etsfit import etsMAIN\n",
    "import etsfit.utils.utilities as ut\n",
    "import pandas as pd\n",
    "from astropy.time import Time\n",
    "\n",
    "import etsfit.utils.pipeline as pipe"
   ]
  },
  {
   "cell_type": "code",
   "execution_count": 3,
   "id": "5ac4e2cd",
   "metadata": {},
   "outputs": [],
   "source": [
    "#TNS info:\n",
    "TNSFile = \"./tutorial_data/hzhtld_TNS.csv\"\n",
    "TNSinfo = pd.read_csv(TNSFile)\n",
    "#data folder\n",
    "dataFolder = \"./tutorial_data/\""
   ]
  },
  {
   "cell_type": "markdown",
   "id": "d5cd419a",
   "metadata": {},
   "source": [
    "<h2> run all normal type fitting </h2>\n",
    "This is only set up for fits 1-5, 7 (no 6 or custom 0)\n",
    "Check the docstring using help() for more on the inputs\n",
    "goodList is an array of strings indicating which in the folder to run on (ie, if you have 300 light curves in a directory but only 10 that you want to actually run on)"
   ]
  },
  {
   "cell_type": "code",
   "execution_count": null,
   "id": "3f1d25a2",
   "metadata": {},
   "outputs": [],
   "source": [
    "# run type 1 fitting for all present datasets\n",
    "pipe.run_all_fits(fitType=1, lightcurveFolder=dataFolder, foldersave=dataFolder, TNSFile=TNSFile,\n",
    "                 filekey = \"-tessreduce\",\n",
    "                 goodList=None, CBV_folder=None, quaternion_folder_raw=None,\n",
    "                 quaternion_folder_txt=None, \n",
    "                 fraction=None, binning=False, n1=10000, n2=40000)"
   ]
  },
  {
   "cell_type": "markdown",
   "id": "6c6e1d47",
   "metadata": {},
   "source": [
    "<h2> run all GP fitting </h2>"
   ]
  },
  {
   "cell_type": "code",
   "execution_count": null,
   "id": "f7ebcd31",
   "metadata": {},
   "outputs": [],
   "source": [
    "pipe.run_all_GP(GPtype=\"expsinqr\", lightcurveFolder=dataFolder, foldersave=dataFolder, TNSFile=TNSFile,\n",
    "               filekey = \"-tessreduce\", goodList=None, fraction=None, \n",
    "               binning=False, n1=10000, n2=40000)"
   ]
  }
 ],
 "metadata": {
  "kernelspec": {
   "display_name": "Python 3 (ipykernel)",
   "language": "python",
   "name": "python3"
  },
  "language_info": {
   "codemirror_mode": {
    "name": "ipython",
    "version": 3
   },
   "file_extension": ".py",
   "mimetype": "text/x-python",
   "name": "python",
   "nbconvert_exporter": "python",
   "pygments_lexer": "ipython3",
   "version": "3.9.12"
  }
 },
 "nbformat": 4,
 "nbformat_minor": 5
}
