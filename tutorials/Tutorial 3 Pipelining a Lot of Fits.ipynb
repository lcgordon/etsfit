{
 "cells": [
  {
   "cell_type": "markdown",
   "id": "c1df6aee",
   "metadata": {},
   "source": [
    "<h1> TUTORIAL THREE: </h1>\n",
    "<h1> PIPELINE YOUR FITTING </h1>\n",
    "<h3> Author: Lindsey Gordon. Last Update: 11-27-22 </h3>\n",
    "        \n",
    "Fit to all the SN datasets in the same folder (for the example's sake there's only two datasets in there, but you'll get the idea)"
   ]
  },
  {
   "cell_type": "code",
   "execution_count": 1,
   "id": "7a68a25e",
   "metadata": {},
   "outputs": [],
   "source": [
    "import numpy as np\n",
    "from etsfit import etsMAIN\n",
    "import etsfit.utils.utilities as ut\n",
    "import pandas as pd\n",
    "from astropy.time import Time\n",
    "\n",
    "import etsfit.utils.pipeline as pipe"
   ]
  },
  {
   "cell_type": "code",
   "execution_count": 2,
   "id": "5ac4e2cd",
   "metadata": {},
   "outputs": [],
   "source": [
    "#TNS info:\n",
    "TNSFile = \"./tutorial_data/hzhtld_TNS.csv\"\n",
    "#data folder\n",
    "dataFolder = \"./tutorial_data/\""
   ]
  },
  {
   "cell_type": "markdown",
   "id": "d5cd419a",
   "metadata": {},
   "source": [
    "<h2> run all normal type fitting </h2>\n",
    "This is only set up for fits 1-5, 7 (no 6 or custom 0)\n",
    "\n",
    "Check the docstring using help() for more on the inputs\n",
    "\n",
    "goodList is an array of strings indicating which in the folder to run on (ie, if you have 300 light curves in a directory but only 10 that you want to actually run on)"
   ]
  },
  {
   "cell_type": "code",
   "execution_count": 3,
   "id": "3f1d25a2",
   "metadata": {},
   "outputs": [
    {
     "name": "stdout",
     "output_type": "stream",
     "text": [
      "2018hzh 04 3 1\n",
      "saving into folder:  ./tutorial_data/2018hzh0431/singlepower/\n",
      " *** \n",
      " *** \n",
      " *** \n",
      " ***\n",
      "Beginning MCMC run\n",
      "Starting burnin chain\n"
     ]
    },
    {
     "name": "stderr",
     "output_type": "stream",
     "text": [
      "100%|████████████████████████████████████| 10000/10000 [01:27<00:00, 113.81it/s]\n",
      " 11%|████▏                                | 4500/40000 [00:44<05:53, 100.54it/s]\n"
     ]
    },
    {
     "name": "stdout",
     "output_type": "stream",
     "text": [
      "Converged, ending chain\n",
      "23200 samples post second run\n",
      "$t_0$ 10.00086546669381 -0.04458159551175811 0.043379881326606196\n",
      "A 3.5034272258586205 -0.046561613837901916 0.04557919333995475\n",
      "$\\beta$ 0.6860506136348437 -0.004336270182674462 0.0044703189386038344\n",
      "b -20.343910944606947 -0.018639337081179264 0.018704109521756607\n",
      "log prob: [-10401.07214867]\n",
      "BAYESIAN INF CRIT:  [-20774.40670849]\n",
      "2020tld 29 2 1\n",
      "saving into folder:  ./tutorial_data/2020tld2921/singlepower/\n",
      " *** \n",
      " *** \n",
      " *** \n",
      " ***\n",
      "Beginning MCMC run\n",
      "Starting burnin chain\n"
     ]
    },
    {
     "name": "stderr",
     "output_type": "stream",
     "text": [
      "100%|█████████████████████████████████████| 10000/10000 [02:36<00:00, 64.05it/s]\n",
      " 12%|████▎                                 | 4600/40000 [01:15<09:40, 60.98it/s]\n"
     ]
    },
    {
     "name": "stdout",
     "output_type": "stream",
     "text": [
      "Converged, ending chain\n",
      "23700 samples post second run\n",
      "$t_0$ 15.347842547676784 -0.017028351890029825 0.0169532062339961\n",
      "A 3.6584410469499122 -0.04430489755427525 0.04554791957758342\n",
      "$\\beta$ 1.3144197068586037 -0.004698642235018369 0.004666250992528598\n",
      "b 6.962663329532052 -0.014389926515526952 0.014571865021186348\n",
      "log prob: [-83050.96241299]\n",
      "BAYESIAN INF CRIT:  [-166069.43059464]\n"
     ]
    }
   ],
   "source": [
    "# run type 1 fitting for all present datasets\n",
    "pipe.run_all_fits(fitType=1, data_dir=dataFolder, save_dir=dataFolder, TNSFile=TNSFile,\n",
    "                 filekey = \"-tessreduce\",\n",
    "                 goodList=None, cbv_dir=None, quaternion_raw_dir=None,\n",
    "                 quaternion_txt_dir=None, \n",
    "                 fraction=None, binning=False, n1=10000, n2=40000)"
   ]
  },
  {
   "cell_type": "markdown",
   "id": "6c6e1d47",
   "metadata": {},
   "source": [
    "<h2> run all GP fitting </h2>"
   ]
  },
  {
   "cell_type": "code",
   "execution_count": 3,
   "id": "f7ebcd31",
   "metadata": {},
   "outputs": [
    {
     "name": "stdout",
     "output_type": "stream",
     "text": [
      "2018hzh 04 3 1\n",
      "saving into folder:  ./tutorial_data/2018hzh0431/tinygp-expsinsqr/\n",
      " *** \n",
      " *** \n",
      " *** \n",
      " ***\n",
      "Beginning MCMC + GP run\n",
      "Starting burn-in chain\n"
     ]
    },
    {
     "name": "stderr",
     "output_type": "stream",
     "text": [
      "100%|████████████████████████████████████| 10000/10000 [01:24<00:00, 117.86it/s]\n"
     ]
    },
    {
     "name": "stdout",
     "output_type": "stream",
     "text": [
      "Initial negative log likelihood: 5194.66800667024\n",
      "Final negative log likelihood: 4813.064511715913\n"
     ]
    },
    {
     "name": "stderr",
     "output_type": "stream",
     "text": [
      " 11%|████▎                                 | 4500/40000 [00:45<05:57, 99.22it/s]"
     ]
    },
    {
     "name": "stdout",
     "output_type": "stream",
     "text": [
      "Converged, ending chain\n"
     ]
    },
    {
     "name": "stderr",
     "output_type": "stream",
     "text": [
      "\n"
     ]
    },
    {
     "name": "stdout",
     "output_type": "stream",
     "text": [
      "23200 samples post second run\n",
      "t0 10.00086546669381 -0.04458159551175811 0.043379881326606196\n",
      "A 3.5034272258586205 -0.046561613837901916 0.04557919333995475\n",
      "beta 0.6860506136348437 -0.004336270182674462 0.0044703189386038344\n",
      "b -20.343910944606947 -0.018639337081179264 0.018704109521756607\n",
      "negative log prob, no GP:  [-10401.07214867]\n",
      "negative log like,  GP:  -4813.862276570615\n",
      "BAYESIAN INF CRIT:  [-30402.13126163]\n",
      "2020tld 29 2 1\n",
      "saving into folder:  ./tutorial_data/2020tld2921/tinygp-expsinsqr/\n",
      " *** \n",
      " *** \n",
      " *** \n",
      " ***\n",
      "Beginning MCMC + GP run\n",
      "Starting burn-in chain\n"
     ]
    },
    {
     "name": "stderr",
     "output_type": "stream",
     "text": [
      "100%|█████████████████████████████████████| 10000/10000 [02:23<00:00, 69.55it/s]\n"
     ]
    },
    {
     "name": "stdout",
     "output_type": "stream",
     "text": [
      "Initial negative log likelihood: 79636.37260846217\n",
      "Final negative log likelihood: 64185.852369964865\n"
     ]
    },
    {
     "name": "stderr",
     "output_type": "stream",
     "text": [
      " 12%|████▎                                 | 4600/40000 [01:18<10:07, 58.26it/s]"
     ]
    },
    {
     "name": "stdout",
     "output_type": "stream",
     "text": [
      "Converged, ending chain\n"
     ]
    },
    {
     "name": "stderr",
     "output_type": "stream",
     "text": [
      "\n"
     ]
    },
    {
     "name": "stdout",
     "output_type": "stream",
     "text": [
      "23700 samples post second run\n",
      "t0 15.347842547676784 -0.017028351890029825 0.0169532062339961\n",
      "A 3.6584410469499122 -0.04430489755427525 0.04554791957758342\n",
      "beta 1.3144197068586037 -0.004698642235018369 0.004666250992528598\n",
      "b 6.962663329532052 -0.014389926515526952 0.014571865021186348\n",
      "negative log prob, no GP:  [-83050.96241299]\n",
      "negative log like,  GP:  -64183.35433188399\n",
      "BAYESIAN INF CRIT:  [-294436.1392584]\n"
     ]
    }
   ],
   "source": [
    "pipe.run_all_GP(GPtype=\"expsinsqr\", data_dir=dataFolder, save_dir=dataFolder, TNSFile=TNSFile,\n",
    "               filekey = \"-tessreduce\", goodList=None, fraction=None, \n",
    "               binning=False, n1=10000, n2=40000, bounds=True)"
   ]
  },
  {
   "cell_type": "code",
   "execution_count": null,
   "id": "41ee98e6",
   "metadata": {},
   "outputs": [],
   "source": []
  },
  {
   "cell_type": "code",
   "execution_count": null,
   "id": "50830251",
   "metadata": {},
   "outputs": [],
   "source": []
  }
 ],
 "metadata": {
  "kernelspec": {
   "display_name": "Python 3 (ipykernel)",
   "language": "python",
   "name": "python3"
  },
  "language_info": {
   "codemirror_mode": {
    "name": "ipython",
    "version": 3
   },
   "file_extension": ".py",
   "mimetype": "text/x-python",
   "name": "python",
   "nbconvert_exporter": "python",
   "pygments_lexer": "ipython3",
   "version": "3.9.12"
  }
 },
 "nbformat": 4,
 "nbformat_minor": 5
}
