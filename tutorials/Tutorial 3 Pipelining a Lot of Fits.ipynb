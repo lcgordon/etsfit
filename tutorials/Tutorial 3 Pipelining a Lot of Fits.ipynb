{
 "cells": [
  {
   "cell_type": "markdown",
   "id": "c1df6aee",
   "metadata": {},
   "source": [
    "<h1> TUTORIAL THREE: </h1>\n",
    "<h1> PIPELINE YOUR FITTING </h1>\n",
    "<h3> Author: Lindsey Gordon. Last Update: 1-4-23 </h3>\n",
    "        \n",
    "Fit to all the SN datasets in the same folder (for the example's sake there's only two datasets in there, but you'll get the idea)"
   ]
  },
  {
   "cell_type": "code",
   "execution_count": 1,
   "id": "7a68a25e",
   "metadata": {},
   "outputs": [],
   "source": [
    "import numpy as np\n",
    "from etsfit import etsMAIN\n",
    "import etsfit.utils.utilities as ut\n",
    "import pandas as pd\n",
    "from astropy.time import Time\n",
    "\n",
    "import etsfit.utils.pipeline as pipe"
   ]
  },
  {
   "cell_type": "code",
   "execution_count": 2,
   "id": "5ac4e2cd",
   "metadata": {},
   "outputs": [],
   "source": [
    "#TNS info:\n",
    "TNSFile = \"./tutorial_data/hzhtld_TNS.csv\"\n",
    "#data folder\n",
    "dataFolder = \"./tutorial_data/\""
   ]
  },
  {
   "cell_type": "markdown",
   "id": "d5cd419a",
   "metadata": {},
   "source": [
    "<h2> run all normal type fitting </h2>\n",
    "This is only set up for fits 1-5, 7 (no 6 or custom 0)\n",
    "\n",
    "Check the docstring using help() for more on the inputs\n",
    "\n",
    "goodList is an array of strings indicating which in the folder to run on (ie, if you have 300 light curves in a directory but only 10 that you want to actually run on)"
   ]
  },
  {
   "cell_type": "code",
   "execution_count": 3,
   "id": "3f1d25a2",
   "metadata": {},
   "outputs": [
    {
     "name": "stdout",
     "output_type": "stream",
     "text": [
      "2018hzh 04 3 1\n",
      "saving into folder:  ./tutorial_data/2018hzh0431/singlepower/\n",
      " *** \n",
      " *** \n",
      " *** \n",
      " ***\n",
      "Beginning MCMC run\n",
      "Starting burnin chain\n"
     ]
    },
    {
     "name": "stderr",
     "output_type": "stream",
     "text": [
      "100%|████████████████████████████████████| 10000/10000 [01:24<00:00, 117.96it/s]\n",
      " 12%|████▎                                | 4700/40000 [00:45<05:38, 104.43it/s]\n"
     ]
    },
    {
     "name": "stdout",
     "output_type": "stream",
     "text": [
      "Converged, ending chain\n",
      "24200 samples post second run\n",
      "$t_0$ 10.22703438234844 -0.03578984000935215 0.033119934965414544\n",
      "A 3.691115398524471 -0.04047472959237286 0.039252931924694145\n",
      "$\\beta$ 0.6704452093481246 -0.003626147260806234 0.00376612198423687\n",
      "b -20.346275826036738 -0.018483848476126497 0.018785396137481314\n",
      "log prob: [-10207.87539943]\n",
      "BAYESIAN INF CRIT:  -20388.08393878721\n",
      "10.22703438234844\n",
      "3.691115398524471\n",
      "0.6704452093481246\n",
      "-20.346275826036738\n",
      "2020tld 29 2 1\n",
      "saving into folder:  ./tutorial_data/2020tld2921/singlepower/\n",
      " *** \n",
      " *** \n",
      " *** \n",
      " ***\n",
      "Beginning MCMC run\n",
      "Starting burnin chain\n"
     ]
    },
    {
     "name": "stderr",
     "output_type": "stream",
     "text": [
      "100%|█████████████████████████████████████| 10000/10000 [02:25<00:00, 68.96it/s]\n",
      " 12%|████▌                                 | 4800/40000 [01:14<09:04, 64.59it/s]"
     ]
    },
    {
     "name": "stdout",
     "output_type": "stream",
     "text": [
      "Converged, ending chain\n"
     ]
    },
    {
     "name": "stderr",
     "output_type": "stream",
     "text": [
      "\n"
     ]
    },
    {
     "name": "stdout",
     "output_type": "stream",
     "text": [
      "23500 samples post second run\n",
      "$t_0$ 15.305073091371707 -0.023199984134208762 0.0192437805363479\n",
      "A 3.5116186638654363 -0.056425181919102396 0.048904101352013285\n",
      "$\\beta$ 1.3315730286416914 -0.00523394349700701 0.006029176819767557\n",
      "b 6.972426803307925 -0.014870878249011454 0.01498833373006736\n",
      "log prob: [-84639.36070991]\n",
      "BAYESIAN INF CRIT:  -169246.05314711056\n",
      "15.305073091371707\n",
      "3.5116186638654363\n",
      "1.3315730286416914\n",
      "6.972426803307925\n"
     ]
    },
    {
     "data": {
      "text/plain": [
       "<etsfit.etsfit.etsMAIN at 0x7fbe6f167e50>"
      ]
     },
     "execution_count": 3,
     "metadata": {},
     "output_type": "execute_result"
    }
   ],
   "source": [
    "# run type 1 fitting for all present datasets\n",
    "pipe.run_all_fits(fitType=1, data_dir=dataFolder, save_dir=dataFolder, TNSFile=TNSFile,\n",
    "                 filekey = \"-tessreduce\",\n",
    "                 goodList=None, cbv_dir=None, quaternion_raw_dir=None,\n",
    "                 quaternion_txt_dir=None, \n",
    "                 fraction=None, binning=False, n1=10000, n2=40000)"
   ]
  },
  {
   "cell_type": "markdown",
   "id": "6c6e1d47",
   "metadata": {},
   "source": [
    "<h2> run all GP fitting </h2>"
   ]
  },
  {
   "cell_type": "code",
   "execution_count": 9,
   "id": "f7ebcd31",
   "metadata": {},
   "outputs": [
    {
     "name": "stdout",
     "output_type": "stream",
     "text": [
      "2018hzh 04 3 1\n",
      "saving into folder:  ./tutorial_data/2018hzh0431/celerite-matern32-residual-bounded/\n",
      "Initial log-likelihood: -8950.722866446498\n",
      " *** \n",
      " *** \n",
      " *** \n",
      " ***\n",
      "Beginning MCMC run\n",
      "Starting burnin chain\n"
     ]
    },
    {
     "name": "stderr",
     "output_type": "stream",
     "text": [
      "100%|███████████████████████████████████████| 5000/5000 [01:27<00:00, 56.86it/s]\n",
      "100%|█████████████████████████████████████| 25000/25000 [08:50<00:00, 47.14it/s]\n"
     ]
    },
    {
     "name": "stdout",
     "output_type": "stream",
     "text": [
      "125000 samples post second run\n",
      "t0 10.23638070494761 -0.03855637294651082 0.03637369806317814\n",
      "A 3.7014345612412973 -0.04396600435989617 0.04618884529470302\n",
      "beta 0.6707982270431394 -0.004063597406309349 0.005902819030865647\n",
      "b -20.34276074977228 -0.020165442317168214 0.0217784582541789\n",
      "$log\\sigma$ 1.4968336174996653 -0.0020811866089300857 0.0009477995402935591\n",
      "$log\\rho$ 0.0010020830056295823 -0.0007629996214485495 0.0026655427181604776\n",
      "log prob: [-17744.23248824]\n",
      "BAYESIAN INF CRIT:  -35446.96468635758\n"
     ]
    },
    {
     "name": "stderr",
     "output_type": "stream",
     "text": [
      "WARNING:root:Too few points to create valid contours\n",
      "WARNING:root:Too few points to create valid contours\n",
      "WARNING:root:Too few points to create valid contours\n"
     ]
    },
    {
     "name": "stdout",
     "output_type": "stream",
     "text": [
      "10.23638070494761\n",
      "3.7014345612412973\n",
      "0.6707982270431394\n",
      "-20.34276074977228\n",
      "1.4968336174996653\n",
      "0.0010020830056295823\n",
      "-celerite-matern32-residual-bounded [[ 1.02363807e+01  3.70143456e+00  6.70798227e-01 -2.03427607e+01\n",
      "   1.49683362e+00  1.00208301e-03]]\n",
      "2020tld 29 2 1\n",
      "saving into folder:  ./tutorial_data/2020tld2921/celerite-matern32-residual-bounded/\n",
      "Initial log-likelihood: -67525.2348479607\n",
      " *** \n",
      " *** \n",
      " *** \n",
      " ***\n",
      "Beginning MCMC run\n",
      "Starting burnin chain\n"
     ]
    },
    {
     "name": "stderr",
     "output_type": "stream",
     "text": [
      "100%|███████████████████████████████████████| 5000/5000 [02:31<00:00, 32.90it/s]\n",
      "100%|█████████████████████████████████████| 25000/25000 [10:52<00:00, 38.32it/s]\n"
     ]
    },
    {
     "name": "stdout",
     "output_type": "stream",
     "text": [
      "125000 samples post second run\n",
      "t0 15.313626745341299 -0.025905270844138073 0.02854812063513279\n",
      "A 3.534275612778634 -0.06494881512174056 0.04753241381019491\n",
      "beta 1.3330205056967674 -0.006159379848797331 0.02857307587066016\n",
      "b 6.977926272857091 -0.01717061511810769 0.024246336379082578\n",
      "$log\\sigma$ 1.4976057543528443 -0.0006942803971510259 0.06516873898037145\n",
      "$log\\rho$ 0.00041738114243426694 -0.00032502504119212366 0.0223160523770177\n",
      "log prob: [-144043.34974214]\n",
      "BAYESIAN INF CRIT:  -288037.69707520196\n"
     ]
    },
    {
     "name": "stderr",
     "output_type": "stream",
     "text": [
      "WARNING:root:Too few points to create valid contours\n",
      "WARNING:root:Too few points to create valid contours\n",
      "WARNING:root:Too few points to create valid contours\n"
     ]
    },
    {
     "name": "stdout",
     "output_type": "stream",
     "text": [
      "15.313626745341299\n",
      "3.534275612778634\n",
      "1.3330205056967674\n",
      "6.977926272857091\n",
      "1.4976057543528443\n",
      "0.00041738114243426694\n",
      "-celerite-matern32-residual-bounded [[1.53136267e+01 3.53427561e+00 1.33302051e+00 6.97792627e+00\n",
      "  1.49760575e+00 4.17381142e-04]]\n"
     ]
    },
    {
     "data": {
      "text/plain": [
       "<etsfit.etsfit.etsMAIN at 0x7fbe2ae383d0>"
      ]
     },
     "execution_count": 9,
     "metadata": {},
     "output_type": "execute_result"
    }
   ],
   "source": [
    "pipe.run_all_GP('celerite_residual', data_dir=dataFolder, save_dir=dataFolder, TNSFile=TNSFile,\n",
    "                          filekey = \"-tessreduce\",\n",
    "                          goodList=None, \n",
    "                          fraction=None, binning=False, n1=5000, n2=25000, bounds=True,\n",
    "                          cbounds=None)"
   ]
  },
  {
   "cell_type": "code",
   "execution_count": null,
   "id": "41ee98e6",
   "metadata": {},
   "outputs": [],
   "source": []
  },
  {
   "cell_type": "code",
   "execution_count": null,
   "id": "50830251",
   "metadata": {},
   "outputs": [],
   "source": []
  }
 ],
 "metadata": {
  "kernelspec": {
   "display_name": "Python 3 (ipykernel)",
   "language": "python",
   "name": "python3"
  },
  "language_info": {
   "codemirror_mode": {
    "name": "ipython",
    "version": 3
   },
   "file_extension": ".py",
   "mimetype": "text/x-python",
   "name": "python",
   "nbconvert_exporter": "python",
   "pygments_lexer": "ipython3",
   "version": "3.9.12"
  }
 },
 "nbformat": 4,
 "nbformat_minor": 5
}
